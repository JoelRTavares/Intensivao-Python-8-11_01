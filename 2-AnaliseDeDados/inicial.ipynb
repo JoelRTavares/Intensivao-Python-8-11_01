{
 "cells": [
  {
   "cell_type": "markdown",
   "metadata": {},
   "source": [
    "Case - Cancelamento de Clientes\n",
    "\n",
    "Você foi contratado por uma empresa com mais de 800 mil clientes para um projeto de Dados. Recentemente a empresa percebeu que da sua base total de clientes, a maioria são clientes inativos, ou seja, que já cancelaram o serviço.\n",
    "\n",
    "Precisando melhorar seus resultados ela quer conseguir entender os principais motivos desses cancelamentos e quais as ações mais eficientes para reduzir esse número."
   ]
  },
  {
   "cell_type": "code",
   "execution_count": 20,
   "metadata": {},
   "outputs": [],
   "source": [
    "#PASSO 1- Importar a base de dados\n",
    "import pandas as pd\n",
    "\n",
    "tabela = pd.read_csv(\"cancelamentos.csv\")\n",
    "#PASSO 2- Visualizar a base de dados\n",
    "display(tabela) "
   ]
  },
  {
   "cell_type": "code",
   "execution_count": 21,
   "metadata": {},
   "outputs": [],
   "source": [
    "#PASSO 3- Corrigir eventuais erros/informacoes inuteis da base de dados\n",
    "\n",
    "tabela = tabela.drop(columns=\"CustomerID\") #A informação de ID de cada consumidor não agrega muito valor, então \n",
    "#é melhor liberar essa coluna para evitar confusões e libertar espaço\n",
    "\n",
    "display(tabela)"
   ]
  },
  {
   "cell_type": "code",
   "execution_count": 22,
   "metadata": {},
   "outputs": [],
   "source": [
    "display(tabela.info()) #Analisando as informações da tabela, foi possivel ver que existiam diversos campos com valores não\n",
    "#preenchidos. Isso seria um problema ainda na analise inicial, então precisei tratar nesse momento\n",
    "\n",
    "tabela = tabela.dropna() #Uma das alternativas é o uso desse método para remover as linhas da tabela que possuem algum campo \n",
    "#como NaN. Como foram apenas 5 linhas excluídas de quase 900 mil, não irá interferir nas análises\n",
    "\n",
    "display(tabela.info())"
   ]
  },
  {
   "cell_type": "code",
   "execution_count": 23,
   "metadata": {},
   "outputs": [
    {
     "data": {
      "text/plain": [
       "cancelou\n",
       "1.0    499993\n",
       "0.0    381666\n",
       "Name: count, dtype: int64"
      ]
     },
     "metadata": {},
     "output_type": "display_data"
    },
    {
     "data": {
      "text/plain": [
       "cancelou\n",
       "1.0    56.7%\n",
       "0.0    43.3%\n",
       "Name: proportion, dtype: object"
      ]
     },
     "metadata": {},
     "output_type": "display_data"
    }
   ],
   "source": [
    "#PASSO 4- Realizar uma Analise inicial dos cancelamentos\n",
    "#Primeira parte:Quantos cancelaram(percentual e quantia)\n",
    "\n",
    "display(tabela[\"cancelou\"].value_counts())\n",
    "display(tabela[\"cancelou\"].value_counts(normalize=True).map(\"{:.1%}\".format))"
   ]
  },
  {
   "cell_type": "code",
   "execution_count": 24,
   "metadata": {},
   "outputs": [],
   "source": [
    "#PASSO 5- Análise detalhada do que é possível melhorar \n",
    "import plotly.express as px\n",
    "\n",
    "#Para cada campo:\n",
    "colunas = tabela.columns;\n",
    "for col in colunas: \n",
    "    #Criar o grafico\n",
    "    grafico = px.histogram(tabela, x=col, color=\"cancelou\")\n",
    "    #Exibir o grafico\n",
    "    grafico.show()"
   ]
  },
  {
   "cell_type": "markdown",
   "metadata": {},
   "source": [
    "ÚLTIMO PASSO: Após análises, quais seriam as principais causas dos cancelamentos\n",
    "\n",
    "Pessoas com mais de 50 anos com certeza cancelam os serviços\n",
    "\n",
    "    - Isso poderia ser do negócio em muitas empresas, pois poderia não se tratar do público alvo do serviço.\n",
    "    - Porém, caso isso seja uma problemática a empresa, poderia ser interessante ter mais conteúdos a esse público, além de uma atenção maior com acessibilidade nessa faixa de idade (Eles conseguiam usar de modo independente?)\n",
    "Pessoas que ligam mais de 5 vezes ao callcenter com certeza cancelam o serviço\n",
    "\n",
    "    - Poderia ser criado um processo para que um problema com um consumidor possa ser resolvido em até 3 ligações\n",
    "Clientes com mais de 20 dias de atraso com certeza cancelam\n",
    "\n",
    "    - A comunicação com clientes em atraso poderia aumentar antes desse 20 dias, como uma tentativa de lembrá-lo de pagar seu plano antes desse período\n",
    "Todos os clientes do plano mensal cancelam\n",
    "\n",
    "    -Oferecer descontos os benefícios aos planos anuais e trimestrais poderia incentivar clientes do mensal a mudarem de plano"
   ]
  },
  {
   "cell_type": "code",
   "execution_count": 25,
   "metadata": {},
   "outputs": [
    {
     "name": "stdout",
     "output_type": "stream",
     "text": [
      ".\n"
     ]
    }
   ],
   "source": [
    "#E se não tivessemos clientes nessas condições? Em quanto seria nossa taxa de cancelamento?\n",
    "\n",
    "grafAntes = px.histogram(tabela, x=\"cancelou\")\n",
    "grafAntes.show()\n",
    "\n",
    "# tabela = tabela[tabela[\"idade\"] < 51]\n",
    "tabela = tabela[tabela[\"ligacoes_callcenter\"] < 5]\n",
    "tabela = tabela[tabela[\"dias_atraso\"] < 21]\n",
    "tabela = tabela[tabela[\"duracao_contrato\"] != \"Monthly\"]\n",
    "\n",
    "grafDepois = px.histogram(tabela, x=\"cancelou\")\n",
    "grafDepois.show()"
   ]
  }
 ],
 "metadata": {
  "kernelspec": {
   "display_name": "Python 3 (ipykernel)",
   "language": "python",
   "name": "python3"
  },
  "language_info": {
   "codemirror_mode": {
    "name": "ipython",
    "version": 3
   },
   "file_extension": ".py",
   "mimetype": "text/x-python",
   "name": "python",
   "nbconvert_exporter": "python",
   "pygments_lexer": "ipython3",
   "version": "3.11.5"
  }
 },
 "nbformat": 4,
 "nbformat_minor": 2
}

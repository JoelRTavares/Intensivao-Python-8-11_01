{
 "cells": [
  {
   "cell_type": "markdown",
   "id": "53ddbc2a",
   "metadata": {},
   "source": [
    "Título \"Hashzap\" \n",
    "Botão de iniciar o chat\n",
    "    Popup\n",
    "        Bem-vindo ao Hashzap\n",
    "        Escreva seu nome\n",
    "        Entrar no chat\n",
    "Chat\n",
    "    Usuário entrou no chat\n",
    "    Mensagens dos usuários\n",
    "Campo para escrever mensagem\n",
    "Botão para enviar mensagem"
   ]
  },
  {
   "cell_type": "code",
   "execution_count": 26,
   "id": "7c5d493d",
   "metadata": {},
   "outputs": [],
   "source": [
    "import flet as ft\n",
    "\n",
    "def main(pagina):\n",
    "    titulo = ft.Text(\"HashZap\")\n",
    "    nome_usuario = ft.TextField(label=\"Escreva seu nome aqui...\")\n",
    "    chat = ft.Column()\n",
    "    campo_mensagem = ft.TextField(label=\"Digite sua mensagem...\")\n",
    "    \n",
    "    def enviar_mensagem_tunel(info):\n",
    "        chat.controls.append(ft.Text(info))\n",
    "        pagina.update()\n",
    "        \n",
    "    pagina.pubsub.subscribe(enviar_mensagem_tunel)\n",
    "    \n",
    "    def enviar_mensagem(evento):\n",
    "        texto_campo_msg = f\"{nome_usuario.value}: {campo_mensagem.value}\"\n",
    "        \n",
    "        campo_mensagem.value = \"\"\n",
    "        pagina.pubsub.send_all(texto_campo_msg)\n",
    "        pagina.update()\n",
    "    \n",
    "    bt_enviar_mensagem = ft.ElevatedButton(\"Enviar\", on_click=enviar_mensagem)\n",
    "    \n",
    "    def entrar_no_chat(evento):\n",
    "        popup.open=False\n",
    "        pagina.remove(botao_entrar_chat)\n",
    "        pagina.add(chat)\n",
    "        linha_mensagem = ft.Row([campo_mensagem, bt_enviar_mensagem])\n",
    "        pagina.add(linha_mensagem)\n",
    "        \n",
    "        pagina.pubsub.send_all(f\"{nome_usuario.value} entrou no chat\")\n",
    "        pagina.update()\n",
    "        \n",
    "    botao_inserir_nome =ft.ElevatedButton(\"Entrar no chat\", on_click=entrar_no_chat)\n",
    "    \n",
    "    \n",
    "    popup = ft.AlertDialog(open=False, \n",
    "                           modal=True, \n",
    "                           title=ft.Text(\"Bem-vindo ao Hashzap!\"),\n",
    "                           content=nome_usuario, \n",
    "                           actions=[botao_inserir_nome])\n",
    "    \n",
    "    def exibir_popup(evento):\n",
    "        pagina.dialog = popup\n",
    "        popup.open=True\n",
    "        pagina.update()\n",
    "        \n",
    "    botao_entrar_chat = ft.ElevatedButton(\"Iniciar chat\", on_click=exibir_popup)\n",
    "    \n",
    "    pagina.add(titulo)\n",
    "    pagina.add(botao_entrar_chat)\n",
    "    \n",
    "ft.app(main, view=ft.WEB_BROWSER)"
   ]
  },
  {
   "cell_type": "code",
   "execution_count": null,
   "id": "e603aad3",
   "metadata": {},
   "outputs": [],
   "source": [
    "# pip install flet"
   ]
  }
 ],
 "metadata": {
  "kernelspec": {
   "display_name": "Python 3 (ipykernel)",
   "language": "python",
   "name": "python3"
  },
  "language_info": {
   "codemirror_mode": {
    "name": "ipython",
    "version": 3
   },
   "file_extension": ".py",
   "mimetype": "text/x-python",
   "name": "python",
   "nbconvert_exporter": "python",
   "pygments_lexer": "ipython3",
   "version": "3.11.5"
  }
 },
 "nbformat": 4,
 "nbformat_minor": 5
}

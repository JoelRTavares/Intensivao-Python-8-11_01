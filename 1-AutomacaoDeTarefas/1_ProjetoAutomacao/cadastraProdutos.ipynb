{
 "cells": [
  {
   "cell_type": "code",
   "execution_count": 22,
   "id": "ef050d11",
   "metadata": {},
   "outputs": [
    {
     "ename": "FailSafeException",
     "evalue": "PyAutoGUI fail-safe triggered from mouse moving to a corner of the screen. To disable this fail-safe, set pyautogui.FAILSAFE to False. DISABLING FAIL-SAFE IS NOT RECOMMENDED.",
     "output_type": "error",
     "traceback": [
      "\u001b[1;31m---------------------------------------------------------------------------\u001b[0m",
      "\u001b[1;31mFailSafeException\u001b[0m                         Traceback (most recent call last)",
      "Cell \u001b[1;32mIn[22], line 59\u001b[0m\n\u001b[0;32m     57\u001b[0m         \u001b[38;5;28;01mcontinue\u001b[39;00m\n\u001b[0;32m     58\u001b[0m     produto \u001b[38;5;241m=\u001b[39m tabela\u001b[38;5;241m.\u001b[39mloc[linha, coluna] \n\u001b[1;32m---> 59\u001b[0m     pyautogui\u001b[38;5;241m.\u001b[39mwrite(\u001b[38;5;28mstr\u001b[39m(produto))\n\u001b[0;32m     60\u001b[0m     pyautogui\u001b[38;5;241m.\u001b[39mpress(\u001b[38;5;124m\"\u001b[39m\u001b[38;5;124mtab\u001b[39m\u001b[38;5;124m\"\u001b[39m)\n\u001b[0;32m     61\u001b[0m produtoObs \u001b[38;5;241m=\u001b[39m tabela\u001b[38;5;241m.\u001b[39mloc[linha, \u001b[38;5;124m\"\u001b[39m\u001b[38;5;124mobs\u001b[39m\u001b[38;5;124m\"\u001b[39m] \n",
      "File \u001b[1;32m~\\anaconda3\\Lib\\site-packages\\pyautogui\\__init__.py:593\u001b[0m, in \u001b[0;36m_genericPyAutoGUIChecks.<locals>.wrapper\u001b[1;34m(*args, **kwargs)\u001b[0m\n\u001b[0;32m    591\u001b[0m \u001b[38;5;129m@functools\u001b[39m\u001b[38;5;241m.\u001b[39mwraps(wrappedFunction)\n\u001b[0;32m    592\u001b[0m \u001b[38;5;28;01mdef\u001b[39;00m \u001b[38;5;21mwrapper\u001b[39m(\u001b[38;5;241m*\u001b[39margs, \u001b[38;5;241m*\u001b[39m\u001b[38;5;241m*\u001b[39mkwargs):\n\u001b[1;32m--> 593\u001b[0m     failSafeCheck()\n\u001b[0;32m    594\u001b[0m     returnVal \u001b[38;5;241m=\u001b[39m wrappedFunction(\u001b[38;5;241m*\u001b[39margs, \u001b[38;5;241m*\u001b[39m\u001b[38;5;241m*\u001b[39mkwargs)\n\u001b[0;32m    595\u001b[0m     _handlePause(kwargs\u001b[38;5;241m.\u001b[39mget(\u001b[38;5;124m\"\u001b[39m\u001b[38;5;124m_pause\u001b[39m\u001b[38;5;124m\"\u001b[39m, \u001b[38;5;28;01mTrue\u001b[39;00m))\n",
      "File \u001b[1;32m~\\anaconda3\\Lib\\site-packages\\pyautogui\\__init__.py:1734\u001b[0m, in \u001b[0;36mfailSafeCheck\u001b[1;34m()\u001b[0m\n\u001b[0;32m   1732\u001b[0m \u001b[38;5;28;01mdef\u001b[39;00m \u001b[38;5;21mfailSafeCheck\u001b[39m():\n\u001b[0;32m   1733\u001b[0m     \u001b[38;5;28;01mif\u001b[39;00m FAILSAFE \u001b[38;5;129;01mand\u001b[39;00m \u001b[38;5;28mtuple\u001b[39m(position()) \u001b[38;5;129;01min\u001b[39;00m FAILSAFE_POINTS:\n\u001b[1;32m-> 1734\u001b[0m         \u001b[38;5;28;01mraise\u001b[39;00m FailSafeException(\n\u001b[0;32m   1735\u001b[0m             \u001b[38;5;124m\"\u001b[39m\u001b[38;5;124mPyAutoGUI fail-safe triggered from mouse moving to a corner of the screen. To disable this fail-safe, set pyautogui.FAILSAFE to False. DISABLING FAIL-SAFE IS NOT RECOMMENDED.\u001b[39m\u001b[38;5;124m\"\u001b[39m\n\u001b[0;32m   1736\u001b[0m         )\n",
      "\u001b[1;31mFailSafeException\u001b[0m: PyAutoGUI fail-safe triggered from mouse moving to a corner of the screen. To disable this fail-safe, set pyautogui.FAILSAFE to False. DISABLING FAIL-SAFE IS NOT RECOMMENDED."
     ]
    }
   ],
   "source": [
    "import pyautogui\n",
    "import time\n",
    "\n",
    "pyautogui.PAUSE = 0.75 #O intervalo entre todas as acoes realizadas no pyautogui\n",
    "\n",
    "# PASSO 1- Abrir o sistema de controle de estoque\n",
    "\n",
    "pyautogui.press(\"win\")\n",
    "pyautogui.write(\"edge\")\n",
    "pyautogui.press(\"enter\")\n",
    "\n",
    "link = \"https://dlp.hashtagtreinamentos.com/python/intensivao/login\"\n",
    "pyautogui.write(link)\n",
    "pyautogui.press(\"enter\")\n",
    "time.sleep(3)\n",
    "\n",
    "# PASSO 2- Logar no sistema\n",
    "\n",
    "pyautogui.click(x=946, y=446)\n",
    "pyautogui.write(\"teste@gmail.com\")\n",
    "pyautogui.press(\"tab\")\n",
    "pyautogui.write(\"Senha123\")\n",
    "pyautogui.click(x=933, y=651)\n",
    "time.sleep(2)\n",
    "\n",
    "# PASSO 3- Ler a base de dados\n",
    "\n",
    "import pandas\n",
    "tabela = pandas.read_csv(\"produtos.csv\")\n",
    "#print(tabela)\n",
    "\n",
    "# PASSO 4 - Cadastrar um produto da base no sistema\n",
    "'''\n",
    "pyautogui.click(x=787, y=296)\n",
    "pyautogui.write(\"MOLO000251\")\n",
    "pyautogui.press(\"tab\")\n",
    "pyautogui.write(\"Logitech\")\n",
    "pyautogui.press(\"tab\")\n",
    "pyautogui.write(\"Mouse\")\n",
    "pyautogui.press(\"tab\")\n",
    "pyautogui.write(str(1))\n",
    "pyautogui.press(\"tab\")\n",
    "pyautogui.write(str(25.95))\n",
    "pyautogui.press(\"tab\")\n",
    "pyautogui.write(str(6.5))\n",
    "pyautogui.press(\"tab\")\n",
    "pyautogui.write(\"\")\n",
    "pyautogui.press(\"tab\")\n",
    "pyautogui.press(\"enter\")\n",
    "'''\n",
    "# PASSO 5- Repetir esse mesmo processo para cada produto da base\n",
    "\n",
    "for linha in tabela.index:\n",
    "    pyautogui.click(x=787, y=296)\n",
    "    for coluna in tabela.columns:\n",
    "        if coluna == \"obs\":\n",
    "            continue\n",
    "        produto = tabela.loc[linha, coluna] \n",
    "        pyautogui.write(str(produto))\n",
    "        pyautogui.press(\"tab\")\n",
    "    produtoObs = tabela.loc[linha, \"obs\"] \n",
    "    if not pandas.isna(produtoObs):\n",
    "        pyautogui.write(produtoObs)\n",
    "    pyautogui.press(\"tab\")    \n",
    "    pyautogui.press(\"enter\")\n",
    "    pyautogui.scroll(500)\n",
    "\n",
    "pyautogui.hotkey(\"ctrl\", \"w\") #fechar navegador ao final"
   ]
  },
  {
   "cell_type": "code",
   "execution_count": 2,
   "id": "ab7ef7d4",
   "metadata": {},
   "outputs": [],
   "source": [
    "#Bloco de instalações \n",
    "#pip install pyautogui"
   ]
  },
  {
   "cell_type": "code",
   "execution_count": 18,
   "id": "afab4f45",
   "metadata": {},
   "outputs": [
    {
     "name": "stdout",
     "output_type": "stream",
     "text": [
      "Point(x=787, y=296)\n"
     ]
    }
   ],
   "source": [
    "#Bloco auxiliar, para que seja possivel descobrir a posicao do mouse a cada clique\n",
    "import pyautogui\n",
    "import time\n",
    "\n",
    "time.sleep(5)\n",
    "print(pyautogui.position())\n",
    "pyautogui.write(\".\")"
   ]
  },
  {
   "cell_type": "markdown",
   "id": "3bd94b8b",
   "metadata": {},
   "source": [
    "         codigo       marca        tipo  categoria  preco_unitario  custo               obs\n",
    "0    MOLO000251    Logitech       Mouse          1           25.95    6.5               NaN\n",
    "1    MOLO000192    Logitech       Mouse          2           19.95    5.0               NaN\n",
    "2    CAHA000251     Hashtag      Camisa          1           25.00   11.0               NaN\n",
    "3    CAHA000252     Hashtag      Camisa          2           25.00   11.0  Conferir estoque\n",
    "4    MOMU000111  Multilaser       Mouse          1           11.99    3.4               NaN\n",
    "..          ...         ...         ...        ...             ...    ...               ...\n",
    "288  ACAP000192       Apple  Acessorios          2           19.00    3.8               NaN\n",
    "289  ACSA0009.3     Samsung  Acessorios          3            9.55    2.1               NaN\n",
    "290  CEMO000271    Motorola     Celular          1          279.00   72.5               NaN\n",
    "291  FOMO000152    Motorola        Fone          2          150.00   33.0               NaN\n",
    "292  CEMO000223    Motorola     Celular          3          229.00   55.0               NaN\n",
    "\n",
    "[293 rows x 7 columns]"
   ]
  }
 ],
 "metadata": {
  "kernelspec": {
   "display_name": "Python 3 (ipykernel)",
   "language": "python",
   "name": "python3"
  },
  "language_info": {
   "codemirror_mode": {
    "name": "ipython",
    "version": 3
   },
   "file_extension": ".py",
   "mimetype": "text/x-python",
   "name": "python",
   "nbconvert_exporter": "python",
   "pygments_lexer": "ipython3",
   "version": "3.11.5"
  }
 },
 "nbformat": 4,
 "nbformat_minor": 5
}

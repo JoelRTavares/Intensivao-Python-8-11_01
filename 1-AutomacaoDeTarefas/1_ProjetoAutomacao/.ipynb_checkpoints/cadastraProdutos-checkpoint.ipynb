{
 "cells": [
  {
   "cell_type": "code",
   "execution_count": 4,
   "id": "1ac164f0",
   "metadata": {},
   "outputs": [],
   "source": [
    "import pyautogui\n",
    "\n",
    "pyautogui.PAUSE = 0.75\n",
    "\n",
    "pyautogui.press(\"win\")\n",
    "pyautogui.write(\"edge\")\n",
    "pyautogui.press(\"enter\")\n",
    "\n",
    "pyautogui.hotkey(\"ctrl\" + \"w\")"
   ]
  },
  {
   "cell_type": "code",
   "execution_count": 2,
   "id": "6ac01fcc",
   "metadata": {},
   "outputs": [],
   "source": [
    "#pip install pyautogui"
   ]
  },
  {
   "cell_type": "code",
   "execution_count": null,
   "id": "5a54d47c",
   "metadata": {},
   "outputs": [],
   "source": []
  }
 ],
 "metadata": {
  "kernelspec": {
   "display_name": "Python 3 (ipykernel)",
   "language": "python",
   "name": "python3"
  },
  "language_info": {
   "codemirror_mode": {
    "name": "ipython",
    "version": 3
   },
   "file_extension": ".py",
   "mimetype": "text/x-python",
   "name": "python",
   "nbconvert_exporter": "python",
   "pygments_lexer": "ipython3",
   "version": "3.11.5"
  }
 },
 "nbformat": 4,
 "nbformat_minor": 5
}
